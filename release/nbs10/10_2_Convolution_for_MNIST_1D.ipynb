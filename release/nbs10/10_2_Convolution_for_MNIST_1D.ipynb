{
 "cells": [
  {
   "cell_type": "markdown",
   "metadata": {},
   "source": [
    "While editing this notebook, don't change cell types as that confuses the autograder.\n",
    "\n",
    "Before you turn this notebook in, make sure everything runs as expected. First, **restart the kernel** (in the menubar, select Kernel $\\rightarrow$ Restart) and then **run all cells** (in the menubar, select Cell $\\rightarrow$ Run All).\n",
    "\n",
    "Make sure you fill in any place that says `YOUR CODE HERE` or \"YOUR ANSWER HERE\", as well as your name below:"
   ]
  },
  {
   "cell_type": "code",
   "execution_count": 13,
   "metadata": {},
   "outputs": [],
   "source": [
    "NAME = \"Ishan Ranjan\""
   ]
  },
  {
   "cell_type": "markdown",
   "metadata": {},
   "source": [
    "_Understanding Deep Learning_"
   ]
  },
  {
   "cell_type": "markdown",
   "metadata": {},
   "source": [
    "---"
   ]
  },
  {
   "cell_type": "markdown",
   "metadata": {
    "colab_type": "text",
    "id": "view-in-github"
   },
   "source": [
    "<a href=\"https://colab.research.google.com/github/DL4DS/sp2024_notebooks/blob/main/release/nbs10/10_2_Convolution_for_MNIST_1D.ipynb\" target=\"_parent\"><img src=\"https://colab.research.google.com/assets/colab-badge.svg\" alt=\"Open In Colab\"/></a>"
   ]
  },
  {
   "cell_type": "markdown",
   "metadata": {
    "deletable": false,
    "editable": false,
    "id": "t9vk9Elugvmi",
    "nbgrader": {
     "cell_type": "markdown",
     "checksum": "382f4c1f9e2e22529c4eca847b8a0295",
     "grade": false,
     "grade_id": "cell-826721bc9c861057",
     "locked": true,
     "schema_version": 3,
     "solution": false,
     "task": false
    }
   },
   "source": [
    "# Notebook 10.2: Convolution for MNIST-1D\n",
    "\n",
    "This notebook investigates a 1D convolutional network for MNIST-1D as in figure 10.7 and 10.8a.\n",
    "\n",
    "Adapted from notebooks at https://github.com/udlbook/udlbook."
   ]
  },
  {
   "cell_type": "code",
   "execution_count": 14,
   "metadata": {
    "deletable": false,
    "editable": false,
    "id": "D5yLObtZCi9J",
    "nbgrader": {
     "cell_type": "code",
     "checksum": "3be57dfed972074361fe13320fdbe067",
     "grade": false,
     "grade_id": "cell-38ca5c48c4502f04",
     "locked": true,
     "schema_version": 3,
     "solution": false,
     "task": false
    }
   },
   "outputs": [],
   "source": [
    "# Clone the mnist1d repository if it doesn't exist\n",
    "import os\n",
    "\n",
    "if not os.path.exists('mnist1d'):\n",
    "    !git clone https://github.com/greydanus/mnist1d"
   ]
  },
  {
   "cell_type": "code",
   "execution_count": 15,
   "metadata": {
    "deletable": false,
    "editable": false,
    "id": "YrXWAH7sUWvU",
    "nbgrader": {
     "cell_type": "code",
     "checksum": "ae641d4a33b8951c20767dd08ca09df4",
     "grade": false,
     "grade_id": "cell-898018bfe2eae0a0",
     "locked": true,
     "schema_version": 3,
     "solution": false,
     "task": false
    }
   },
   "outputs": [],
   "source": [
    "import numpy as np\n",
    "import os\n",
    "import torch, torch.nn as nn\n",
    "from torch.utils.data import TensorDataset, DataLoader\n",
    "from torch.optim.lr_scheduler import StepLR\n",
    "import matplotlib.pyplot as plt\n",
    "import mnist1d\n",
    "import random\n",
    "from torchinfo import summary"
   ]
  },
  {
   "cell_type": "code",
   "execution_count": 16,
   "metadata": {
    "deletable": false,
    "editable": false,
    "id": "twI72ZCrCt5z",
    "nbgrader": {
     "cell_type": "code",
     "checksum": "d528988585d87180da6af0099959a9af",
     "grade": false,
     "grade_id": "cell-dba2f652f646650b",
     "locked": true,
     "schema_version": 3,
     "solution": false,
     "task": false
    }
   },
   "outputs": [
    {
     "name": "stdout",
     "output_type": "stream",
     "text": [
      "Successfully loaded data from ./mnist1d_data.pkl\n",
      "Examples in training set: 4000\n",
      "Examples in test set: 1000\n",
      "Length of each example: 40\n"
     ]
    }
   ],
   "source": [
    "args = mnist1d.data.get_dataset_args()\n",
    "data = mnist1d.data.get_dataset(args, path='./mnist1d_data.pkl', download=False, regenerate=False)\n",
    "\n",
    "# The training and test input and outputs are in\n",
    "# data['x'], data['y'], data['x_test'], and data['y_test']\n",
    "print(\"Examples in training set: {}\".format(len(data['y'])))\n",
    "print(\"Examples in test set: {}\".format(len(data['y_test'])))\n",
    "print(\"Length of each example: {}\".format(data['x'].shape[-1]))"
   ]
  },
  {
   "cell_type": "code",
   "execution_count": 17,
   "metadata": {
    "deletable": false,
    "editable": false,
    "id": "8bKADvLHbiV5",
    "nbgrader": {
     "cell_type": "code",
     "checksum": "33f15b626b9e30c047c82c1b3335f3b5",
     "grade": false,
     "grade_id": "cell-186d8014f879b8bc",
     "locked": true,
     "schema_version": 3,
     "solution": false,
     "task": false
    }
   },
   "outputs": [
    {
     "name": "stdout",
     "output_type": "stream",
     "text": [
      "Train data: 4000 examples (columns), each of which has 40 dimensions (rows)\n",
      "Validation data: 1000 examples (columns), each of which has 40 dimensions (rows)\n"
     ]
    }
   ],
   "source": [
    "# Load in the data\n",
    "train_data_x = data['x'].transpose()\n",
    "train_data_y = data['y']\n",
    "val_data_x = data['x_test'].transpose()\n",
    "val_data_y = data['y_test']\n",
    "# Print out sizes\n",
    "print(\"Train data: %d examples (columns), each of which has %d dimensions (rows)\"%((train_data_x.shape[1],train_data_x.shape[0])))\n",
    "print(\"Validation data: %d examples (columns), each of which has %d dimensions (rows)\"%((val_data_x.shape[1],val_data_x.shape[0])))"
   ]
  },
  {
   "cell_type": "markdown",
   "metadata": {
    "deletable": false,
    "editable": false,
    "id": "_sFvRDGrl4qe",
    "nbgrader": {
     "cell_type": "markdown",
     "checksum": "d041e0eb4ec05e1c155d77843424d064",
     "grade": false,
     "grade_id": "cell-c8ea2152bd84384a",
     "locked": true,
     "schema_version": 3,
     "solution": false,
     "task": false
    }
   },
   "source": [
    "Define the network"
   ]
  },
  {
   "cell_type": "code",
   "execution_count": 18,
   "metadata": {
    "deletable": false,
    "id": "FslroPJJffrh",
    "nbgrader": {
     "cell_type": "code",
     "checksum": "c1bf01f51f97e92202957cfb0bd5c2fa",
     "grade": false,
     "grade_id": "cell-6cc7ac979be00536",
     "locked": false,
     "schema_version": 3,
     "solution": true,
     "task": false
    }
   },
   "outputs": [],
   "source": [
    "# There are 40 input dimensions and 10 output dimensions for this data\n",
    "# The inputs correspond to the 40 offsets in the MNIST1D template.\n",
    "D_i = 40\n",
    "# The outputs correspond to the 10 digits\n",
    "D_o = 10\n",
    "\n",
    "\n",
    "# TODO Create a model with the following layers\n",
    "# 1. Convolutional layer, (input=length 40 and 1 channel, kernel size 3, stride 2, padding=\"valid\", 15 output channels )\n",
    "# 2. ReLU\n",
    "# 3. Convolutional layer, (input=length 19 and 15 channels, kernel size 3, stride 2, padding=\"valid\", 15 output channels )\n",
    "# 4. ReLU\n",
    "# 5. Convolutional layer, (input=length 9 and 15 channels, kernel size 3, stride 2, padding=\"valid\", 15 output channels)\n",
    "# 6. ReLU\n",
    "# 7. Flatten (converts 4x15) to length 60\n",
    "# 8. Linear layer (input size = 60, output size = 10)\n",
    "# References:\n",
    "# https://pytorch.org/docs/1.13/generated/torch.nn.Conv1d.html?highlight=conv1d#torch.nn.Conv1d\n",
    "# https://pytorch.org/docs/stable/generated/torch.nn.Flatten.html\n",
    "# https://pytorch.org/docs/1.13/generated/torch.nn.Linear.html?highlight=linear#torch.nn.Linear\n",
    "\n",
    "# NOTE THAT THE CONVOLUTIONAL LAYERS NEED TO TAKE THE NUMBER OF INPUT CHANNELS AS A PARAMETER\n",
    "# AND NOT THE INPUT SIZE.\n",
    "\n",
    "model = nn.Sequential(\n",
    "    nn.Conv1d(1, 15, kernel_size=3, stride=2, padding=0),\n",
    "    nn.ReLU(),\n",
    "    nn.Conv1d(15, 15, kernel_size=3, stride=2, padding=0),\n",
    "    nn.ReLU(),\n",
    "    nn.Conv1d(15, 15, kernel_size=3, stride=2, padding=0),\n",
    "    nn.ReLU(),\n",
    "    nn.Flatten(),\n",
    "    nn.Linear(60, 10)\n",
    ")\n"
   ]
  },
  {
   "cell_type": "code",
   "execution_count": 19,
   "metadata": {
    "deletable": false,
    "editable": false,
    "id": "YgLaex1pfhqz",
    "nbgrader": {
     "cell_type": "code",
     "checksum": "5edaca79d353a5efb20038a5088639d1",
     "grade": false,
     "grade_id": "cell-1657acd518aefc28",
     "locked": true,
     "schema_version": 3,
     "solution": false,
     "task": false
    }
   },
   "outputs": [],
   "source": [
    "# He initialization of weights\n",
    "def weights_init(layer_in):\n",
    "  if isinstance(layer_in, nn.Linear):\n",
    "    nn.init.kaiming_uniform_(layer_in.weight)\n",
    "    layer_in.bias.data.fill_(0.0)"
   ]
  },
  {
   "cell_type": "code",
   "execution_count": 20,
   "metadata": {
    "deletable": false,
    "editable": false,
    "id": "NYw8I_3mmX5c",
    "nbgrader": {
     "cell_type": "code",
     "checksum": "568c5cef459f5a0b7ab6a39bdba88974",
     "grade": false,
     "grade_id": "cell-23c12ca27b87659a",
     "locked": true,
     "schema_version": 3,
     "solution": false,
     "task": false
    }
   },
   "outputs": [],
   "source": [
    "# choose cross entropy loss function (equation 5.24 in the loss notes)\n",
    "loss_function = nn.CrossEntropyLoss()\n",
    "# construct SGD optimizer and initialize learning rate and momentum\n",
    "optimizer = torch.optim.SGD(model.parameters(), lr = 0.05, momentum=0.9)\n",
    "# object that decreases learning rate by half every 20 epochs\n",
    "scheduler = StepLR(optimizer, step_size=20, gamma=0.5)"
   ]
  },
  {
   "cell_type": "code",
   "execution_count": 21,
   "metadata": {
    "deletable": false,
    "editable": false,
    "nbgrader": {
     "cell_type": "code",
     "checksum": "173cee8439025fd052f81a46983b96b2",
     "grade": false,
     "grade_id": "cell-bba067cd071fbc90",
     "locked": true,
     "schema_version": 3,
     "solution": false,
     "task": false
    }
   },
   "outputs": [],
   "source": [
    "# create 100 dummy data points and store in data loader class\n",
    "x_train = torch.tensor(train_data_x.transpose().astype('float32'))\n",
    "y_train = torch.tensor(train_data_y.astype('long')).long()\n",
    "x_val= torch.tensor(val_data_x.transpose().astype('float32'))\n",
    "y_val = torch.tensor(val_data_y.astype('long')).long()\n",
    "\n",
    "# load the data into a class that creates the batches\n",
    "data_loader = DataLoader(TensorDataset(x_train,y_train), batch_size=100, shuffle=True, worker_init_fn=np.random.seed(1))"
   ]
  },
  {
   "cell_type": "code",
   "execution_count": 22,
   "metadata": {
    "deletable": false,
    "editable": false,
    "nbgrader": {
     "cell_type": "code",
     "checksum": "64c9a0ab3fc2f0af1677d4922a7ac539",
     "grade": false,
     "grade_id": "cell-16e01f293696a21b",
     "locked": true,
     "schema_version": 3,
     "solution": false,
     "task": false
    }
   },
   "outputs": [
    {
     "name": "stdout",
     "output_type": "stream",
     "text": [
      "40\n",
      "4000\n",
      "4000\n",
      "1000\n",
      "1000\n"
     ]
    }
   ],
   "source": [
    "print(len(data_loader))\n",
    "print(len(x_train))\n",
    "print(len(y_train))\n",
    "print(len(x_val))\n",
    "print(len(y_val))"
   ]
  },
  {
   "cell_type": "code",
   "execution_count": 23,
   "metadata": {
    "deletable": false,
    "editable": false,
    "nbgrader": {
     "cell_type": "code",
     "checksum": "4c1a444c0e5d3aec20174f63a44999f3",
     "grade": false,
     "grade_id": "cell-f302fdf1bec52860",
     "locked": true,
     "schema_version": 3,
     "solution": false,
     "task": false
    }
   },
   "outputs": [
    {
     "name": "stdout",
     "output_type": "stream",
     "text": [
      "Sequential(\n",
      "  (0): Conv1d(1, 15, kernel_size=(3,), stride=(2,))\n",
      "  (1): ReLU()\n",
      "  (2): Conv1d(15, 15, kernel_size=(3,), stride=(2,))\n",
      "  (3): ReLU()\n",
      "  (4): Conv1d(15, 15, kernel_size=(3,), stride=(2,))\n",
      "  (5): ReLU()\n",
      "  (6): Flatten(start_dim=1, end_dim=-1)\n",
      "  (7): Linear(in_features=60, out_features=10, bias=True)\n",
      ")\n"
     ]
    },
    {
     "data": {
      "text/plain": [
       "==========================================================================================\n",
       "Layer (type:depth-idx)                   Output Shape              Param #\n",
       "==========================================================================================\n",
       "Sequential                               [100, 10]                 --\n",
       "├─Conv1d: 1-1                            [100, 15, 19]             60\n",
       "├─ReLU: 1-2                              [100, 15, 19]             --\n",
       "├─Conv1d: 1-3                            [100, 15, 9]              690\n",
       "├─ReLU: 1-4                              [100, 15, 9]              --\n",
       "├─Conv1d: 1-5                            [100, 15, 4]              690\n",
       "├─ReLU: 1-6                              [100, 15, 4]              --\n",
       "├─Flatten: 1-7                           [100, 60]                 --\n",
       "├─Linear: 1-8                            [100, 10]                 610\n",
       "==========================================================================================\n",
       "Total params: 2,050\n",
       "Trainable params: 2,050\n",
       "Non-trainable params: 0\n",
       "Total mult-adds (M): 1.07\n",
       "==========================================================================================\n",
       "Input size (MB): 0.02\n",
       "Forward/backward pass size (MB): 0.39\n",
       "Params size (MB): 0.01\n",
       "Estimated Total Size (MB): 0.42\n",
       "=========================================================================================="
      ]
     },
     "execution_count": 23,
     "metadata": {},
     "output_type": "execute_result"
    }
   ],
   "source": [
    "# Initialize model weights\n",
    "model.apply(weights_init)\n",
    "print(model)\n",
    "summary(model, input_size=(100, 1, 40))"
   ]
  },
  {
   "cell_type": "code",
   "execution_count": 24,
   "metadata": {
    "deletable": false,
    "editable": false,
    "nbgrader": {
     "cell_type": "code",
     "checksum": "1771937d0163ddb19834dd1e4e604ab6",
     "grade": false,
     "grade_id": "cell-77d13e8a54937cbe",
     "locked": true,
     "schema_version": 3,
     "solution": false,
     "task": false
    }
   },
   "outputs": [
    {
     "name": "stdout",
     "output_type": "stream",
     "text": [
      "Epoch     0, train loss 2.024630, train error 77.38,  val loss 2.054718, percent error 80.30\n",
      "Epoch     1, train loss 1.570950, train error 61.72,  val loss 1.600460, percent error 66.10\n",
      "Epoch     2, train loss 1.392649, train error 58.33,  val loss 1.389578, percent error 60.80\n",
      "Epoch     3, train loss 1.257523, train error 50.08,  val loss 1.261323, percent error 53.40\n",
      "Epoch     4, train loss 1.253424, train error 50.78,  val loss 1.284150, percent error 53.20\n",
      "Epoch     5, train loss 1.138212, train error 46.65,  val loss 1.161502, percent error 49.70\n",
      "Epoch     6, train loss 0.998181, train error 37.70,  val loss 1.036497, percent error 40.70\n",
      "Epoch     7, train loss 0.954081, train error 37.67,  val loss 0.990920, percent error 41.30\n",
      "Epoch     8, train loss 0.899013, train error 35.53,  val loss 0.951863, percent error 38.20\n",
      "Epoch     9, train loss 0.849866, train error 34.50,  val loss 0.918701, percent error 37.20\n",
      "Epoch    10, train loss 0.689623, train error 26.47,  val loss 0.748989, percent error 28.10\n",
      "Epoch    11, train loss 0.649717, train error 25.38,  val loss 0.717624, percent error 28.00\n",
      "Epoch    12, train loss 0.629834, train error 23.35,  val loss 0.706001, percent error 26.00\n",
      "Epoch    13, train loss 0.542653, train error 19.93,  val loss 0.640532, percent error 24.00\n",
      "Epoch    14, train loss 0.446823, train error 16.32,  val loss 0.547290, percent error 20.60\n",
      "Epoch    15, train loss 0.498361, train error 19.28,  val loss 0.646883, percent error 23.90\n",
      "Epoch    16, train loss 0.393451, train error 15.38,  val loss 0.525248, percent error 21.60\n",
      "Epoch    17, train loss 0.345252, train error 13.18,  val loss 0.481909, percent error 18.00\n",
      "Epoch    18, train loss 0.325183, train error 12.25,  val loss 0.473788, percent error 17.10\n",
      "Epoch    19, train loss 0.274549, train error 9.65,  val loss 0.404763, percent error 13.20\n",
      "Epoch    20, train loss 0.202291, train error 6.68,  val loss 0.370144, percent error 12.50\n",
      "Epoch    21, train loss 0.195696, train error 6.57,  val loss 0.360683, percent error 11.70\n",
      "Epoch    22, train loss 0.204193, train error 7.53,  val loss 0.387635, percent error 12.30\n",
      "Epoch    23, train loss 0.175005, train error 6.00,  val loss 0.363578, percent error 11.80\n",
      "Epoch    24, train loss 0.155765, train error 5.53,  val loss 0.339739, percent error 11.00\n",
      "Epoch    25, train loss 0.174792, train error 6.30,  val loss 0.366593, percent error 10.40\n",
      "Epoch    26, train loss 0.145371, train error 5.03,  val loss 0.330052, percent error 10.80\n",
      "Epoch    27, train loss 0.138787, train error 4.70,  val loss 0.330146, percent error 10.50\n",
      "Epoch    28, train loss 0.141700, train error 5.12,  val loss 0.356689, percent error 12.20\n",
      "Epoch    29, train loss 0.114453, train error 4.05,  val loss 0.335269, percent error 11.10\n",
      "Epoch    30, train loss 0.119740, train error 3.68,  val loss 0.339115, percent error 10.30\n",
      "Epoch    31, train loss 0.114562, train error 3.72,  val loss 0.325806, percent error 9.80\n",
      "Epoch    32, train loss 0.106320, train error 3.38,  val loss 0.333591, percent error 10.10\n",
      "Epoch    33, train loss 0.095037, train error 3.12,  val loss 0.339421, percent error 10.10\n",
      "Epoch    34, train loss 0.097900, train error 3.43,  val loss 0.359201, percent error 10.30\n",
      "Epoch    35, train loss 0.100459, train error 3.57,  val loss 0.343682, percent error 10.30\n",
      "Epoch    36, train loss 0.105034, train error 3.57,  val loss 0.349610, percent error 9.90\n",
      "Epoch    37, train loss 0.089483, train error 3.00,  val loss 0.332159, percent error 9.10\n",
      "Epoch    38, train loss 0.088074, train error 2.95,  val loss 0.323816, percent error 9.20\n",
      "Epoch    39, train loss 0.094145, train error 3.20,  val loss 0.357390, percent error 10.10\n",
      "Epoch    40, train loss 0.063605, train error 2.10,  val loss 0.312001, percent error 8.60\n",
      "Epoch    41, train loss 0.056622, train error 1.55,  val loss 0.317246, percent error 8.40\n",
      "Epoch    42, train loss 0.056504, train error 1.60,  val loss 0.313372, percent error 8.10\n",
      "Epoch    43, train loss 0.054641, train error 1.62,  val loss 0.333330, percent error 9.00\n",
      "Epoch    44, train loss 0.055737, train error 1.65,  val loss 0.338383, percent error 8.50\n",
      "Epoch    45, train loss 0.052026, train error 1.38,  val loss 0.330575, percent error 8.10\n",
      "Epoch    46, train loss 0.049178, train error 1.15,  val loss 0.328995, percent error 8.30\n",
      "Epoch    47, train loss 0.047232, train error 1.12,  val loss 0.349852, percent error 8.00\n",
      "Epoch    48, train loss 0.044630, train error 1.00,  val loss 0.348290, percent error 8.70\n",
      "Epoch    49, train loss 0.046368, train error 1.10,  val loss 0.357739, percent error 8.80\n",
      "Epoch    50, train loss 0.045782, train error 1.18,  val loss 0.353837, percent error 8.20\n",
      "Epoch    51, train loss 0.048744, train error 1.35,  val loss 0.354608, percent error 9.00\n",
      "Epoch    52, train loss 0.041145, train error 0.90,  val loss 0.350870, percent error 8.30\n",
      "Epoch    53, train loss 0.042649, train error 0.93,  val loss 0.363798, percent error 9.00\n",
      "Epoch    54, train loss 0.052572, train error 1.53,  val loss 0.379858, percent error 8.70\n",
      "Epoch    55, train loss 0.043467, train error 0.97,  val loss 0.376429, percent error 8.80\n",
      "Epoch    56, train loss 0.036284, train error 0.78,  val loss 0.365752, percent error 8.50\n",
      "Epoch    57, train loss 0.037115, train error 0.72,  val loss 0.374551, percent error 9.30\n",
      "Epoch    58, train loss 0.035286, train error 0.65,  val loss 0.368648, percent error 8.30\n",
      "Epoch    59, train loss 0.036347, train error 0.75,  val loss 0.386149, percent error 9.10\n",
      "Epoch    60, train loss 0.034784, train error 0.65,  val loss 0.382589, percent error 8.20\n",
      "Epoch    61, train loss 0.031834, train error 0.50,  val loss 0.374230, percent error 8.70\n",
      "Epoch    62, train loss 0.031062, train error 0.55,  val loss 0.377245, percent error 8.70\n",
      "Epoch    63, train loss 0.030489, train error 0.45,  val loss 0.383203, percent error 8.70\n",
      "Epoch    64, train loss 0.030203, train error 0.45,  val loss 0.378738, percent error 8.40\n",
      "Epoch    65, train loss 0.029527, train error 0.40,  val loss 0.382833, percent error 8.80\n",
      "Epoch    66, train loss 0.028753, train error 0.38,  val loss 0.382363, percent error 8.60\n",
      "Epoch    67, train loss 0.028934, train error 0.40,  val loss 0.384983, percent error 8.30\n",
      "Epoch    68, train loss 0.028714, train error 0.45,  val loss 0.390079, percent error 8.60\n",
      "Epoch    69, train loss 0.031544, train error 0.53,  val loss 0.398268, percent error 8.60\n",
      "Epoch    70, train loss 0.028433, train error 0.32,  val loss 0.389432, percent error 8.30\n",
      "Epoch    71, train loss 0.027742, train error 0.32,  val loss 0.394125, percent error 8.70\n",
      "Epoch    72, train loss 0.026865, train error 0.32,  val loss 0.393638, percent error 8.60\n",
      "Epoch    73, train loss 0.026856, train error 0.32,  val loss 0.395542, percent error 8.70\n",
      "Epoch    74, train loss 0.027685, train error 0.45,  val loss 0.398977, percent error 8.80\n",
      "Epoch    75, train loss 0.025510, train error 0.28,  val loss 0.396428, percent error 8.50\n",
      "Epoch    76, train loss 0.026432, train error 0.38,  val loss 0.400959, percent error 8.70\n",
      "Epoch    77, train loss 0.024989, train error 0.30,  val loss 0.401003, percent error 8.70\n",
      "Epoch    78, train loss 0.024827, train error 0.32,  val loss 0.400607, percent error 8.60\n",
      "Epoch    79, train loss 0.025002, train error 0.30,  val loss 0.403775, percent error 8.40\n",
      "Epoch    80, train loss 0.024480, train error 0.25,  val loss 0.406122, percent error 8.60\n",
      "Epoch    81, train loss 0.023914, train error 0.28,  val loss 0.402893, percent error 8.70\n",
      "Epoch    82, train loss 0.023714, train error 0.20,  val loss 0.405785, percent error 8.50\n",
      "Epoch    83, train loss 0.023802, train error 0.30,  val loss 0.408258, percent error 8.40\n",
      "Epoch    84, train loss 0.024216, train error 0.28,  val loss 0.411528, percent error 8.40\n",
      "Epoch    85, train loss 0.023413, train error 0.20,  val loss 0.408129, percent error 8.40\n",
      "Epoch    86, train loss 0.023714, train error 0.28,  val loss 0.410642, percent error 8.80\n",
      "Epoch    87, train loss 0.023570, train error 0.20,  val loss 0.408361, percent error 8.70\n",
      "Epoch    88, train loss 0.022760, train error 0.20,  val loss 0.411273, percent error 8.40\n",
      "Epoch    89, train loss 0.022613, train error 0.18,  val loss 0.412679, percent error 8.60\n",
      "Epoch    90, train loss 0.022637, train error 0.20,  val loss 0.412868, percent error 8.20\n",
      "Epoch    91, train loss 0.022670, train error 0.22,  val loss 0.413648, percent error 8.70\n",
      "Epoch    92, train loss 0.022245, train error 0.20,  val loss 0.411457, percent error 8.40\n",
      "Epoch    93, train loss 0.022254, train error 0.18,  val loss 0.415556, percent error 8.60\n",
      "Epoch    94, train loss 0.021837, train error 0.15,  val loss 0.416151, percent error 8.50\n",
      "Epoch    95, train loss 0.021881, train error 0.18,  val loss 0.416815, percent error 8.40\n",
      "Epoch    96, train loss 0.021627, train error 0.15,  val loss 0.418460, percent error 8.60\n",
      "Epoch    97, train loss 0.021683, train error 0.15,  val loss 0.417338, percent error 8.70\n",
      "Epoch    98, train loss 0.021365, train error 0.15,  val loss 0.417078, percent error 8.60\n",
      "Epoch    99, train loss 0.021360, train error 0.15,  val loss 0.420955, percent error 8.60\n"
     ]
    },
    {
     "data": {
      "image/png": "[encoded data removed]",
      "text/plain": [
       "<Figure size 640x480 with 1 Axes>"
      ]
     },
     "metadata": {},
     "output_type": "display_data"
    }
   ],
   "source": [
    "\n",
    "# loop over the dataset n_epoch times\n",
    "n_epoch = 100\n",
    "# store the loss and the % correct at each epoch\n",
    "losses_train = np.zeros((n_epoch))\n",
    "errors_train = np.zeros((n_epoch))\n",
    "losses_val = np.zeros((n_epoch))\n",
    "errors_val = np.zeros((n_epoch))\n",
    "\n",
    "for epoch in range(n_epoch):\n",
    "  # loop over batches\n",
    "  for i, data in enumerate(data_loader):\n",
    "    # retrieve inputs and labels for this batch\n",
    "    x_batch, y_batch = data\n",
    "    # zero the parameter gradients\n",
    "    optimizer.zero_grad()\n",
    "    # forward pass -- calculate model output\n",
    "    pred = model(x_batch[:,None,:])\n",
    "    # compute the loss\n",
    "    loss = loss_function(pred, y_batch)\n",
    "    # backward pass\n",
    "    loss.backward()\n",
    "    # SGD update\n",
    "    optimizer.step()\n",
    "\n",
    "  # Run whole dataset to get statistics -- normally wouldn't do this\n",
    "  pred_train = model(x_train[:,None,:])\n",
    "  pred_val = model(x_val[:,None,:])\n",
    "  _, predicted_train_class = torch.max(pred_train.data, 1)\n",
    "  _, predicted_val_class = torch.max(pred_val.data, 1)\n",
    "  errors_train[epoch] = 100 - 100 * (predicted_train_class == y_train).float().sum() / len(y_train)\n",
    "  errors_val[epoch]= 100 - 100 * (predicted_val_class == y_val).float().sum() / len(y_val)\n",
    "  losses_train[epoch] = loss_function(pred_train, y_train).item()\n",
    "  losses_val[epoch]= loss_function(pred_val, y_val).item()\n",
    "  print(f'Epoch {epoch:5d}, train loss {losses_train[epoch]:.6f}, train error {errors_train[epoch]:3.2f},  val loss {losses_val[epoch]:.6f}, percent error {errors_val[epoch]:3.2f}')\n",
    "\n",
    "  # tell scheduler to consider updating learning rate\n",
    "  scheduler.step()\n",
    "\n",
    "# Plot the results\n",
    "fig, ax = plt.subplots()\n",
    "ax.plot(errors_train,'r-',label='train')\n",
    "ax.plot(errors_val,'b-',label='validation')\n",
    "ax.set_ylim(0,100); ax.set_xlim(0,n_epoch)\n",
    "ax.set_xlabel('Epoch'); ax.set_ylabel('Error')\n",
    "ax.set_title('Part I: Validation Result %3.2f'%(errors_val[-1]))\n",
    "ax.legend()\n",
    "plt.show()"
   ]
  },
  {
   "cell_type": "markdown",
   "metadata": {
    "deletable": false,
    "editable": false,
    "nbgrader": {
     "cell_type": "markdown",
     "checksum": "f98124720f6b6c6797ca4f0c0c078e95",
     "grade": false,
     "grade_id": "cell-f9aedc7087a3d938",
     "locked": true,
     "schema_version": 3,
     "solution": false,
     "task": false
    }
   },
   "source": [
    "Compare the number of parameters from the model summary above and the test error\n",
    "with the fully connected model in 8_1_MNIST_1D_Performance.ipynb."
   ]
  },
  {
   "cell_type": "markdown",
   "metadata": {},
   "source": [
    "The parameters are being fed through a convolutional layer, so even though there are less parameters, it is more accurate, as reflected by the reduced test set error, which is very high in the fully connected model."
   ]
  }
 ],
 "metadata": {
  "colab": {
   "authorship_tag": "ABX9TyNJodaaCLMRWL9vTl8B/iLI",
   "include_colab_link": true,
   "provenance": []
  },
  "kernelspec": {
   "display_name": "Python 3 (ipykernel)",
   "language": "python",
   "name": "python3"
  },
  "language_info": {
   "codemirror_mode": {
    "name": "ipython",
    "version": 3
   },
   "file_extension": ".py",
   "mimetype": "text/x-python",
   "name": "python",
   "nbconvert_exporter": "python",
   "pygments_lexer": "ipython3",
   "version": "3.10.9"
  }
 },
 "nbformat": 4,
 "nbformat_minor": 4
}
