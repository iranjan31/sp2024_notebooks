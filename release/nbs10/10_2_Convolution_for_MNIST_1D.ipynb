{
 "cells": [
  {
   "cell_type": "markdown",
   "metadata": {},
   "source": [
    "While editing this notebook, don't change cell types as that confuses the autograder.\n",
    "\n",
    "Before you turn this notebook in, make sure everything runs as expected. First, **restart the kernel** (in the menubar, select Kernel $\\rightarrow$ Restart) and then **run all cells** (in the menubar, select Cell $\\rightarrow$ Run All).\n",
    "\n",
    "Make sure you fill in any place that says `YOUR CODE HERE` or \"YOUR ANSWER HERE\", as well as your name below:"
   ]
  },
  {
   "cell_type": "code",
   "execution_count": 1,
   "metadata": {},
   "outputs": [],
   "source": [
    "NAME = \"Ishan Ranjan\""
   ]
  },
  {
   "cell_type": "markdown",
   "metadata": {},
   "source": [
    "_Understanding Deep Learning_"
   ]
  },
  {
   "cell_type": "markdown",
   "metadata": {},
   "source": [
    "---"
   ]
  },
  {
   "cell_type": "markdown",
   "metadata": {
    "colab_type": "text",
    "id": "view-in-github"
   },
   "source": [
    "<a href=\"https://colab.research.google.com/github/DL4DS/sp2024_notebooks/blob/main/release/nbs10/10_2_Convolution_for_MNIST_1D.ipynb\" target=\"_parent\"><img src=\"https://colab.research.google.com/assets/colab-badge.svg\" alt=\"Open In Colab\"/></a>"
   ]
  },
  {
   "cell_type": "markdown",
   "metadata": {
    "deletable": false,
    "editable": false,
    "id": "t9vk9Elugvmi",
    "nbgrader": {
     "cell_type": "markdown",
     "checksum": "382f4c1f9e2e22529c4eca847b8a0295",
     "grade": false,
     "grade_id": "cell-826721bc9c861057",
     "locked": true,
     "schema_version": 3,
     "solution": false,
     "task": false
    }
   },
   "source": [
    "# Notebook 10.2: Convolution for MNIST-1D\n",
    "\n",
    "This notebook investigates a 1D convolutional network for MNIST-1D as in figure 10.7 and 10.8a.\n",
    "\n",
    "Adapted from notebooks at https://github.com/udlbook/udlbook."
   ]
  },
  {
   "cell_type": "code",
   "execution_count": 2,
   "metadata": {
    "deletable": false,
    "editable": false,
    "id": "D5yLObtZCi9J",
    "nbgrader": {
     "cell_type": "code",
     "checksum": "3be57dfed972074361fe13320fdbe067",
     "grade": false,
     "grade_id": "cell-38ca5c48c4502f04",
     "locked": true,
     "schema_version": 3,
     "solution": false,
     "task": false
    }
   },
   "outputs": [
    {
     "name": "stdout",
     "output_type": "stream",
     "text": [
      "Cloning into 'mnist1d'...\n",
      "remote: Enumerating objects: 204, done.\u001b[K\n",
      "remote: Counting objects: 100% (76/76), done.\u001b[K\n",
      "remote: Compressing objects: 100% (35/35), done.\u001b[K\n",
      "remote: Total 204 (delta 47), reused 60 (delta 41), pack-reused 128\u001b[K\n",
      "Receiving objects: 100% (204/204), 8.42 MiB | 3.21 MiB/s, done.\n",
      "Resolving deltas: 100% (73/73), done.\n"
     ]
    }
   ],
   "source": [
    "# Clone the mnist1d repository if it doesn't exist\n",
    "import os\n",
    "\n",
    "if not os.path.exists('mnist1d'):\n",
    "    !git clone https://github.com/greydanus/mnist1d"
   ]
  },
  {
   "cell_type": "code",
   "execution_count": 3,
   "metadata": {
    "deletable": false,
    "editable": false,
    "id": "YrXWAH7sUWvU",
    "nbgrader": {
     "cell_type": "code",
     "checksum": "ae641d4a33b8951c20767dd08ca09df4",
     "grade": false,
     "grade_id": "cell-898018bfe2eae0a0",
     "locked": true,
     "schema_version": 3,
     "solution": false,
     "task": false
    }
   },
   "outputs": [],
   "source": [
    "import numpy as np\n",
    "import os\n",
    "import torch, torch.nn as nn\n",
    "from torch.utils.data import TensorDataset, DataLoader\n",
    "from torch.optim.lr_scheduler import StepLR\n",
    "import matplotlib.pyplot as plt\n",
    "import mnist1d\n",
    "import random\n",
    "from torchinfo import summary"
   ]
  },
  {
   "cell_type": "code",
   "execution_count": 4,
   "metadata": {
    "deletable": false,
    "editable": false,
    "id": "twI72ZCrCt5z",
    "nbgrader": {
     "cell_type": "code",
     "checksum": "d528988585d87180da6af0099959a9af",
     "grade": false,
     "grade_id": "cell-dba2f652f646650b",
     "locked": true,
     "schema_version": 3,
     "solution": false,
     "task": false
    }
   },
   "outputs": [
    {
     "name": "stdout",
     "output_type": "stream",
     "text": [
      "Did or could not load data from ./mnist1d_data.pkl. Rebuilding dataset...\n",
      "Examples in training set: 4000\n",
      "Examples in test set: 1000\n",
      "Length of each example: 40\n"
     ]
    }
   ],
   "source": [
    "args = mnist1d.data.get_dataset_args()\n",
    "data = mnist1d.data.get_dataset(args, path='./mnist1d_data.pkl', download=False, regenerate=False)\n",
    "\n",
    "# The training and test input and outputs are in\n",
    "# data['x'], data['y'], data['x_test'], and data['y_test']\n",
    "print(\"Examples in training set: {}\".format(len(data['y'])))\n",
    "print(\"Examples in test set: {}\".format(len(data['y_test'])))\n",
    "print(\"Length of each example: {}\".format(data['x'].shape[-1]))"
   ]
  },
  {
   "cell_type": "code",
   "execution_count": 5,
   "metadata": {
    "deletable": false,
    "editable": false,
    "id": "8bKADvLHbiV5",
    "nbgrader": {
     "cell_type": "code",
     "checksum": "33f15b626b9e30c047c82c1b3335f3b5",
     "grade": false,
     "grade_id": "cell-186d8014f879b8bc",
     "locked": true,
     "schema_version": 3,
     "solution": false,
     "task": false
    }
   },
   "outputs": [
    {
     "name": "stdout",
     "output_type": "stream",
     "text": [
      "Train data: 4000 examples (columns), each of which has 40 dimensions (rows)\n",
      "Validation data: 1000 examples (columns), each of which has 40 dimensions (rows)\n"
     ]
    }
   ],
   "source": [
    "# Load in the data\n",
    "train_data_x = data['x'].transpose()\n",
    "train_data_y = data['y']\n",
    "val_data_x = data['x_test'].transpose()\n",
    "val_data_y = data['y_test']\n",
    "# Print out sizes\n",
    "print(\"Train data: %d examples (columns), each of which has %d dimensions (rows)\"%((train_data_x.shape[1],train_data_x.shape[0])))\n",
    "print(\"Validation data: %d examples (columns), each of which has %d dimensions (rows)\"%((val_data_x.shape[1],val_data_x.shape[0])))"
   ]
  },
  {
   "cell_type": "markdown",
   "metadata": {
    "deletable": false,
    "editable": false,
    "id": "_sFvRDGrl4qe",
    "nbgrader": {
     "cell_type": "markdown",
     "checksum": "d041e0eb4ec05e1c155d77843424d064",
     "grade": false,
     "grade_id": "cell-c8ea2152bd84384a",
     "locked": true,
     "schema_version": 3,
     "solution": false,
     "task": false
    }
   },
   "source": [
    "Define the network"
   ]
  },
  {
   "cell_type": "code",
   "execution_count": 6,
   "metadata": {
    "deletable": false,
    "id": "FslroPJJffrh",
    "nbgrader": {
     "cell_type": "code",
     "checksum": "c1bf01f51f97e92202957cfb0bd5c2fa",
     "grade": false,
     "grade_id": "cell-6cc7ac979be00536",
     "locked": false,
     "schema_version": 3,
     "solution": true,
     "task": false
    }
   },
   "outputs": [],
   "source": [
    "# There are 40 input dimensions and 10 output dimensions for this data\n",
    "# The inputs correspond to the 40 offsets in the MNIST1D template.\n",
    "D_i = 40\n",
    "# The outputs correspond to the 10 digits\n",
    "D_o = 10\n",
    "\n",
    "\n",
    "# TODO Create a model with the following layers\n",
    "# 1. Convolutional layer, (input=length 40 and 1 channel, kernel size 3, stride 2, padding=\"valid\", 15 output channels )\n",
    "# 2. ReLU\n",
    "# 3. Convolutional layer, (input=length 19 and 15 channels, kernel size 3, stride 2, padding=\"valid\", 15 output channels )\n",
    "# 4. ReLU\n",
    "# 5. Convolutional layer, (input=length 9 and 15 channels, kernel size 3, stride 2, padding=\"valid\", 15 output channels)\n",
    "# 6. ReLU\n",
    "# 7. Flatten (converts 4x15) to length 60\n",
    "# 8. Linear layer (input size = 60, output size = 10)\n",
    "# References:\n",
    "# https://pytorch.org/docs/1.13/generated/torch.nn.Conv1d.html?highlight=conv1d#torch.nn.Conv1d\n",
    "# https://pytorch.org/docs/stable/generated/torch.nn.Flatten.html\n",
    "# https://pytorch.org/docs/1.13/generated/torch.nn.Linear.html?highlight=linear#torch.nn.Linear\n",
    "\n",
    "# NOTE THAT THE CONVOLUTIONAL LAYERS NEED TO TAKE THE NUMBER OF INPUT CHANNELS AS A PARAMETER\n",
    "# AND NOT THE INPUT SIZE.\n",
    "\n",
    "model = nn.Sequential(\n",
    "    nn.Conv1d(1, 15, kernel_size=3, stride=2, padding=0),\n",
    "    nn.ReLU(),\n",
    "    nn.Conv1d(15, 15, kernel_size=3, stride=2, padding=0),\n",
    "    nn.ReLU(),\n",
    "    nn.Conv1d(15, 15, kernel_size=3, stride=2, padding=0),\n",
    "    nn.ReLU(),\n",
    "    nn.Flatten(),\n",
    "    nn.Linear(60, 10)\n",
    ")\n"
   ]
  },
  {
   "cell_type": "code",
   "execution_count": 7,
   "metadata": {
    "deletable": false,
    "editable": false,
    "id": "YgLaex1pfhqz",
    "nbgrader": {
     "cell_type": "code",
     "checksum": "5edaca79d353a5efb20038a5088639d1",
     "grade": false,
     "grade_id": "cell-1657acd518aefc28",
     "locked": true,
     "schema_version": 3,
     "solution": false,
     "task": false
    }
   },
   "outputs": [],
   "source": [
    "# He initialization of weights\n",
    "def weights_init(layer_in):\n",
    "  if isinstance(layer_in, nn.Linear):\n",
    "    nn.init.kaiming_uniform_(layer_in.weight)\n",
    "    layer_in.bias.data.fill_(0.0)"
   ]
  },
  {
   "cell_type": "code",
   "execution_count": 8,
   "metadata": {
    "deletable": false,
    "editable": false,
    "id": "NYw8I_3mmX5c",
    "nbgrader": {
     "cell_type": "code",
     "checksum": "568c5cef459f5a0b7ab6a39bdba88974",
     "grade": false,
     "grade_id": "cell-23c12ca27b87659a",
     "locked": true,
     "schema_version": 3,
     "solution": false,
     "task": false
    }
   },
   "outputs": [],
   "source": [
    "# choose cross entropy loss function (equation 5.24 in the loss notes)\n",
    "loss_function = nn.CrossEntropyLoss()\n",
    "# construct SGD optimizer and initialize learning rate and momentum\n",
    "optimizer = torch.optim.SGD(model.parameters(), lr = 0.05, momentum=0.9)\n",
    "# object that decreases learning rate by half every 20 epochs\n",
    "scheduler = StepLR(optimizer, step_size=20, gamma=0.5)"
   ]
  },
  {
   "cell_type": "code",
   "execution_count": 9,
   "metadata": {
    "deletable": false,
    "editable": false,
    "nbgrader": {
     "cell_type": "code",
     "checksum": "173cee8439025fd052f81a46983b96b2",
     "grade": false,
     "grade_id": "cell-bba067cd071fbc90",
     "locked": true,
     "schema_version": 3,
     "solution": false,
     "task": false
    }
   },
   "outputs": [],
   "source": [
    "# create 100 dummy data points and store in data loader class\n",
    "x_train = torch.tensor(train_data_x.transpose().astype('float32'))\n",
    "y_train = torch.tensor(train_data_y.astype('long')).long()\n",
    "x_val= torch.tensor(val_data_x.transpose().astype('float32'))\n",
    "y_val = torch.tensor(val_data_y.astype('long')).long()\n",
    "\n",
    "# load the data into a class that creates the batches\n",
    "data_loader = DataLoader(TensorDataset(x_train,y_train), batch_size=100, shuffle=True, worker_init_fn=np.random.seed(1))"
   ]
  },
  {
   "cell_type": "code",
   "execution_count": 10,
   "metadata": {
    "deletable": false,
    "editable": false,
    "nbgrader": {
     "cell_type": "code",
     "checksum": "64c9a0ab3fc2f0af1677d4922a7ac539",
     "grade": false,
     "grade_id": "cell-16e01f293696a21b",
     "locked": true,
     "schema_version": 3,
     "solution": false,
     "task": false
    }
   },
   "outputs": [
    {
     "name": "stdout",
     "output_type": "stream",
     "text": [
      "40\n",
      "4000\n",
      "4000\n",
      "1000\n",
      "1000\n"
     ]
    }
   ],
   "source": [
    "print(len(data_loader))\n",
    "print(len(x_train))\n",
    "print(len(y_train))\n",
    "print(len(x_val))\n",
    "print(len(y_val))"
   ]
  },
  {
   "cell_type": "code",
   "execution_count": 11,
   "metadata": {
    "deletable": false,
    "editable": false,
    "nbgrader": {
     "cell_type": "code",
     "checksum": "4c1a444c0e5d3aec20174f63a44999f3",
     "grade": false,
     "grade_id": "cell-f302fdf1bec52860",
     "locked": true,
     "schema_version": 3,
     "solution": false,
     "task": false
    }
   },
   "outputs": [
    {
     "name": "stdout",
     "output_type": "stream",
     "text": [
      "Sequential(\n",
      "  (0): Conv1d(1, 15, kernel_size=(3,), stride=(2,))\n",
      "  (1): ReLU()\n",
      "  (2): Conv1d(15, 15, kernel_size=(3,), stride=(2,))\n",
      "  (3): ReLU()\n",
      "  (4): Conv1d(15, 15, kernel_size=(3,), stride=(2,))\n",
      "  (5): ReLU()\n",
      "  (6): Flatten(start_dim=1, end_dim=-1)\n",
      "  (7): Linear(in_features=60, out_features=10, bias=True)\n",
      ")\n"
     ]
    },
    {
     "data": {
      "text/plain": [
       "==========================================================================================\n",
       "Layer (type:depth-idx)                   Output Shape              Param #\n",
       "==========================================================================================\n",
       "Sequential                               [100, 10]                 --\n",
       "├─Conv1d: 1-1                            [100, 15, 19]             60\n",
       "├─ReLU: 1-2                              [100, 15, 19]             --\n",
       "├─Conv1d: 1-3                            [100, 15, 9]              690\n",
       "├─ReLU: 1-4                              [100, 15, 9]              --\n",
       "├─Conv1d: 1-5                            [100, 15, 4]              690\n",
       "├─ReLU: 1-6                              [100, 15, 4]              --\n",
       "├─Flatten: 1-7                           [100, 60]                 --\n",
       "├─Linear: 1-8                            [100, 10]                 610\n",
       "==========================================================================================\n",
       "Total params: 2,050\n",
       "Trainable params: 2,050\n",
       "Non-trainable params: 0\n",
       "Total mult-adds (M): 1.07\n",
       "==========================================================================================\n",
       "Input size (MB): 0.02\n",
       "Forward/backward pass size (MB): 0.39\n",
       "Params size (MB): 0.01\n",
       "Estimated Total Size (MB): 0.42\n",
       "=========================================================================================="
      ]
     },
     "execution_count": 11,
     "metadata": {},
     "output_type": "execute_result"
    }
   ],
   "source": [
    "# Initialize model weights\n",
    "model.apply(weights_init)\n",
    "print(model)\n",
    "summary(model, input_size=(100, 1, 40))"
   ]
  },
  {
   "cell_type": "code",
   "execution_count": 12,
   "metadata": {
    "deletable": false,
    "editable": false,
    "nbgrader": {
     "cell_type": "code",
     "checksum": "1771937d0163ddb19834dd1e4e604ab6",
     "grade": false,
     "grade_id": "cell-77d13e8a54937cbe",
     "locked": true,
     "schema_version": 3,
     "solution": false,
     "task": false
    }
   },
   "outputs": [
    {
     "name": "stdout",
     "output_type": "stream",
     "text": [
      "Epoch     0, train loss 2.232916, train error 85.10,  val loss 2.241792, percent error 86.90\n",
      "Epoch     1, train loss 1.735578, train error 68.75,  val loss 1.756915, percent error 71.50\n",
      "Epoch     2, train loss 1.444067, train error 58.78,  val loss 1.451873, percent error 60.80\n",
      "Epoch     3, train loss 1.296919, train error 50.67,  val loss 1.303280, percent error 54.00\n",
      "Epoch     4, train loss 1.309682, train error 53.22,  val loss 1.339336, percent error 56.90\n",
      "Epoch     5, train loss 1.122966, train error 46.38,  val loss 1.152660, percent error 48.80\n",
      "Epoch     6, train loss 0.999227, train error 41.15,  val loss 1.027965, percent error 43.70\n",
      "Epoch     7, train loss 0.913845, train error 35.05,  val loss 0.959009, percent error 37.90\n",
      "Epoch     8, train loss 0.863783, train error 34.28,  val loss 0.901678, percent error 36.10\n",
      "Epoch     9, train loss 0.750190, train error 28.85,  val loss 0.827098, percent error 32.30\n",
      "Epoch    10, train loss 0.744130, train error 29.53,  val loss 0.816318, percent error 33.10\n",
      "Epoch    11, train loss 0.620273, train error 24.10,  val loss 0.707732, percent error 28.20\n",
      "Epoch    12, train loss 0.612422, train error 23.55,  val loss 0.705966, percent error 28.90\n",
      "Epoch    13, train loss 0.560520, train error 21.85,  val loss 0.650409, percent error 26.00\n",
      "Epoch    14, train loss 0.542488, train error 20.97,  val loss 0.640136, percent error 24.60\n",
      "Epoch    15, train loss 0.561927, train error 21.57,  val loss 0.659959, percent error 24.60\n",
      "Epoch    16, train loss 0.434352, train error 16.82,  val loss 0.574039, percent error 21.90\n",
      "Epoch    17, train loss 0.417389, train error 15.43,  val loss 0.556253, percent error 20.60\n",
      "Epoch    18, train loss 0.435224, train error 15.93,  val loss 0.554413, percent error 19.70\n",
      "Epoch    19, train loss 0.367246, train error 13.18,  val loss 0.470580, percent error 17.10\n",
      "Epoch    20, train loss 0.281457, train error 10.20,  val loss 0.423936, percent error 15.30\n",
      "Epoch    21, train loss 0.248743, train error 8.38,  val loss 0.422805, percent error 14.40\n",
      "Epoch    22, train loss 0.239249, train error 8.30,  val loss 0.417325, percent error 15.30\n",
      "Epoch    23, train loss 0.245898, train error 8.47,  val loss 0.423657, percent error 14.00\n",
      "Epoch    24, train loss 0.227114, train error 8.30,  val loss 0.404799, percent error 13.70\n",
      "Epoch    25, train loss 0.207242, train error 7.25,  val loss 0.374227, percent error 12.90\n",
      "Epoch    26, train loss 0.192225, train error 6.55,  val loss 0.383719, percent error 13.90\n",
      "Epoch    27, train loss 0.200455, train error 7.05,  val loss 0.400361, percent error 14.00\n",
      "Epoch    28, train loss 0.184380, train error 6.90,  val loss 0.394419, percent error 14.40\n",
      "Epoch    29, train loss 0.175354, train error 5.80,  val loss 0.376390, percent error 12.50\n",
      "Epoch    30, train loss 0.159637, train error 5.20,  val loss 0.371015, percent error 12.60\n",
      "Epoch    31, train loss 0.159398, train error 5.18,  val loss 0.371291, percent error 12.40\n",
      "Epoch    32, train loss 0.150565, train error 5.28,  val loss 0.363349, percent error 12.00\n",
      "Epoch    33, train loss 0.160099, train error 5.57,  val loss 0.370430, percent error 12.40\n",
      "Epoch    34, train loss 0.133690, train error 4.40,  val loss 0.346719, percent error 11.40\n",
      "Epoch    35, train loss 0.137172, train error 4.70,  val loss 0.363264, percent error 11.40\n",
      "Epoch    36, train loss 0.146572, train error 5.70,  val loss 0.421370, percent error 12.90\n",
      "Epoch    37, train loss 0.140172, train error 5.30,  val loss 0.415570, percent error 12.80\n",
      "Epoch    38, train loss 0.156430, train error 5.78,  val loss 0.415439, percent error 12.60\n",
      "Epoch    39, train loss 0.131678, train error 4.62,  val loss 0.374553, percent error 12.00\n",
      "Epoch    40, train loss 0.093739, train error 3.03,  val loss 0.333462, percent error 10.50\n",
      "Epoch    41, train loss 0.093786, train error 3.15,  val loss 0.351873, percent error 10.40\n",
      "Epoch    42, train loss 0.085426, train error 2.25,  val loss 0.344184, percent error 11.30\n",
      "Epoch    43, train loss 0.087409, train error 2.62,  val loss 0.348347, percent error 10.70\n",
      "Epoch    44, train loss 0.082113, train error 2.47,  val loss 0.353123, percent error 11.10\n",
      "Epoch    45, train loss 0.089740, train error 2.78,  val loss 0.351363, percent error 10.90\n",
      "Epoch    46, train loss 0.076001, train error 2.20,  val loss 0.353412, percent error 10.50\n",
      "Epoch    47, train loss 0.080760, train error 2.53,  val loss 0.372296, percent error 11.00\n",
      "Epoch    48, train loss 0.075584, train error 2.12,  val loss 0.359809, percent error 11.30\n",
      "Epoch    49, train loss 0.077021, train error 2.35,  val loss 0.378748, percent error 10.70\n",
      "Epoch    50, train loss 0.078929, train error 2.40,  val loss 0.358523, percent error 10.80\n",
      "Epoch    51, train loss 0.072672, train error 2.10,  val loss 0.361552, percent error 11.60\n",
      "Epoch    52, train loss 0.067734, train error 1.85,  val loss 0.357102, percent error 11.00\n",
      "Epoch    53, train loss 0.067626, train error 1.85,  val loss 0.364213, percent error 10.90\n",
      "Epoch    54, train loss 0.062307, train error 1.72,  val loss 0.358626, percent error 10.90\n",
      "Epoch    55, train loss 0.064911, train error 1.75,  val loss 0.348158, percent error 10.50\n",
      "Epoch    56, train loss 0.062033, train error 1.88,  val loss 0.378788, percent error 10.90\n",
      "Epoch    57, train loss 0.059855, train error 1.60,  val loss 0.372740, percent error 10.10\n",
      "Epoch    58, train loss 0.065199, train error 1.97,  val loss 0.366888, percent error 11.00\n",
      "Epoch    59, train loss 0.057298, train error 1.25,  val loss 0.363665, percent error 11.00\n",
      "Epoch    60, train loss 0.053122, train error 1.10,  val loss 0.365345, percent error 10.20\n",
      "Epoch    61, train loss 0.052830, train error 1.22,  val loss 0.371085, percent error 10.70\n",
      "Epoch    62, train loss 0.051826, train error 1.12,  val loss 0.359142, percent error 10.60\n",
      "Epoch    63, train loss 0.051381, train error 1.10,  val loss 0.371844, percent error 10.30\n",
      "Epoch    64, train loss 0.051690, train error 1.15,  val loss 0.366419, percent error 10.70\n",
      "Epoch    65, train loss 0.049742, train error 1.07,  val loss 0.381327, percent error 10.70\n",
      "Epoch    66, train loss 0.048487, train error 0.90,  val loss 0.372901, percent error 10.70\n",
      "Epoch    67, train loss 0.049384, train error 1.05,  val loss 0.378066, percent error 10.80\n",
      "Epoch    68, train loss 0.047196, train error 0.93,  val loss 0.367449, percent error 10.20\n",
      "Epoch    69, train loss 0.047757, train error 0.93,  val loss 0.379520, percent error 10.80\n",
      "Epoch    70, train loss 0.046705, train error 0.88,  val loss 0.369163, percent error 10.60\n",
      "Epoch    71, train loss 0.047098, train error 1.05,  val loss 0.367566, percent error 11.10\n",
      "Epoch    72, train loss 0.045398, train error 0.80,  val loss 0.381735, percent error 10.70\n",
      "Epoch    73, train loss 0.044979, train error 0.97,  val loss 0.380722, percent error 10.90\n",
      "Epoch    74, train loss 0.045148, train error 0.80,  val loss 0.384221, percent error 10.60\n",
      "Epoch    75, train loss 0.044266, train error 0.72,  val loss 0.386226, percent error 10.20\n",
      "Epoch    76, train loss 0.042722, train error 0.75,  val loss 0.376929, percent error 10.40\n",
      "Epoch    77, train loss 0.045575, train error 0.88,  val loss 0.386318, percent error 10.70\n",
      "Epoch    78, train loss 0.042443, train error 0.68,  val loss 0.380308, percent error 10.70\n",
      "Epoch    79, train loss 0.044315, train error 0.78,  val loss 0.383693, percent error 11.00\n",
      "Epoch    80, train loss 0.040790, train error 0.75,  val loss 0.380952, percent error 10.70\n",
      "Epoch    81, train loss 0.040701, train error 0.62,  val loss 0.389171, percent error 11.00\n",
      "Epoch    82, train loss 0.040376, train error 0.62,  val loss 0.386685, percent error 10.80\n",
      "Epoch    83, train loss 0.039830, train error 0.65,  val loss 0.383931, percent error 10.80\n",
      "Epoch    84, train loss 0.039723, train error 0.57,  val loss 0.384539, percent error 10.70\n",
      "Epoch    85, train loss 0.040118, train error 0.65,  val loss 0.384436, percent error 10.30\n",
      "Epoch    86, train loss 0.039457, train error 0.55,  val loss 0.387323, percent error 10.90\n",
      "Epoch    87, train loss 0.039661, train error 0.57,  val loss 0.392247, percent error 10.70\n",
      "Epoch    88, train loss 0.038757, train error 0.65,  val loss 0.387466, percent error 10.50\n",
      "Epoch    89, train loss 0.038847, train error 0.60,  val loss 0.384772, percent error 10.50\n",
      "Epoch    90, train loss 0.038886, train error 0.68,  val loss 0.387000, percent error 10.50\n",
      "Epoch    91, train loss 0.038261, train error 0.55,  val loss 0.389360, percent error 10.50\n",
      "Epoch    92, train loss 0.038892, train error 0.57,  val loss 0.388475, percent error 10.70\n",
      "Epoch    93, train loss 0.038300, train error 0.68,  val loss 0.384180, percent error 10.40\n",
      "Epoch    94, train loss 0.037767, train error 0.62,  val loss 0.392149, percent error 10.70\n",
      "Epoch    95, train loss 0.037180, train error 0.57,  val loss 0.387596, percent error 10.50\n",
      "Epoch    96, train loss 0.037138, train error 0.65,  val loss 0.388936, percent error 10.50\n",
      "Epoch    97, train loss 0.036672, train error 0.55,  val loss 0.389734, percent error 10.40\n",
      "Epoch    98, train loss 0.036532, train error 0.55,  val loss 0.387928, percent error 10.30\n",
      "Epoch    99, train loss 0.036538, train error 0.53,  val loss 0.390478, percent error 10.60\n"
     ]
    },
    {
     "data": {
      "image/png": "[encoded data removed]",
      "text/plain": [
       "<Figure size 640x480 with 1 Axes>"
      ]
     },
     "metadata": {},
     "output_type": "display_data"
    }
   ],
   "source": [
    "\n",
    "# loop over the dataset n_epoch times\n",
    "n_epoch = 100\n",
    "# store the loss and the % correct at each epoch\n",
    "losses_train = np.zeros((n_epoch))\n",
    "errors_train = np.zeros((n_epoch))\n",
    "losses_val = np.zeros((n_epoch))\n",
    "errors_val = np.zeros((n_epoch))\n",
    "\n",
    "for epoch in range(n_epoch):\n",
    "  # loop over batches\n",
    "  for i, data in enumerate(data_loader):\n",
    "    # retrieve inputs and labels for this batch\n",
    "    x_batch, y_batch = data\n",
    "    # zero the parameter gradients\n",
    "    optimizer.zero_grad()\n",
    "    # forward pass -- calculate model output\n",
    "    pred = model(x_batch[:,None,:])\n",
    "    # compute the loss\n",
    "    loss = loss_function(pred, y_batch)\n",
    "    # backward pass\n",
    "    loss.backward()\n",
    "    # SGD update\n",
    "    optimizer.step()\n",
    "\n",
    "  # Run whole dataset to get statistics -- normally wouldn't do this\n",
    "  pred_train = model(x_train[:,None,:])\n",
    "  pred_val = model(x_val[:,None,:])\n",
    "  _, predicted_train_class = torch.max(pred_train.data, 1)\n",
    "  _, predicted_val_class = torch.max(pred_val.data, 1)\n",
    "  errors_train[epoch] = 100 - 100 * (predicted_train_class == y_train).float().sum() / len(y_train)\n",
    "  errors_val[epoch]= 100 - 100 * (predicted_val_class == y_val).float().sum() / len(y_val)\n",
    "  losses_train[epoch] = loss_function(pred_train, y_train).item()\n",
    "  losses_val[epoch]= loss_function(pred_val, y_val).item()\n",
    "  print(f'Epoch {epoch:5d}, train loss {losses_train[epoch]:.6f}, train error {errors_train[epoch]:3.2f},  val loss {losses_val[epoch]:.6f}, percent error {errors_val[epoch]:3.2f}')\n",
    "\n",
    "  # tell scheduler to consider updating learning rate\n",
    "  scheduler.step()\n",
    "\n",
    "# Plot the results\n",
    "fig, ax = plt.subplots()\n",
    "ax.plot(errors_train,'r-',label='train')\n",
    "ax.plot(errors_val,'b-',label='validation')\n",
    "ax.set_ylim(0,100); ax.set_xlim(0,n_epoch)\n",
    "ax.set_xlabel('Epoch'); ax.set_ylabel('Error')\n",
    "ax.set_title('Part I: Validation Result %3.2f'%(errors_val[-1]))\n",
    "ax.legend()\n",
    "plt.show()"
   ]
  },
  {
   "cell_type": "markdown",
   "metadata": {
    "deletable": false,
    "editable": false,
    "nbgrader": {
     "cell_type": "markdown",
     "checksum": "f98124720f6b6c6797ca4f0c0c078e95",
     "grade": false,
     "grade_id": "cell-f9aedc7087a3d938",
     "locked": true,
     "schema_version": 3,
     "solution": false,
     "task": false
    }
   },
   "source": [
    "Compare the number of parameters from the model summary above and the test error\n",
    "with the fully connected model in 8_1_MNIST_1D_Performance.ipynb."
   ]
  },
  {
   "cell_type": "markdown",
   "metadata": {},
   "source": [
    "The parameters are being fed through a convolutional layer, so even though there are less parameters, it is more accurate, as reflected by the reduced test set error, which is very high in the fully connected model."
   ]
  }
 ],
 "metadata": {
  "colab": {
   "authorship_tag": "ABX9TyNJodaaCLMRWL9vTl8B/iLI",
   "include_colab_link": true,
   "provenance": []
  },
  "kernelspec": {
   "display_name": "Python 3 (ipykernel)",
   "language": "python",
   "name": "python3"
  },
  "language_info": {
   "codemirror_mode": {
    "name": "ipython",
    "version": 3
   },
   "file_extension": ".py",
   "mimetype": "text/x-python",
   "name": "python",
   "nbconvert_exporter": "python",
   "pygments_lexer": "ipython3",
   "version": "3.10.9"
  }
 },
 "nbformat": 4,
 "nbformat_minor": 4
}
