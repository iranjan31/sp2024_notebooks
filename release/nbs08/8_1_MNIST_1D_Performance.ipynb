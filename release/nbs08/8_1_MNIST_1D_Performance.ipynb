{
 "cells": [
  {
   "cell_type": "markdown",
   "metadata": {},
   "source": [
    "While editing this notebook, don't change cell types as that confuses the autograder.\n",
    "\n",
    "Before you turn this notebook in, make sure everything runs as expected. First, **restart the kernel** (in the menubar, select Kernel $\\rightarrow$ Restart) and then **run all cells** (in the menubar, select Cell $\\rightarrow$ Run All).\n",
    "\n",
    "Make sure you fill in any place that says `YOUR CODE HERE` or \"YOUR ANSWER HERE\", as well as your name below:"
   ]
  },
  {
   "cell_type": "code",
   "execution_count": 2,
   "metadata": {},
   "outputs": [],
   "source": [
    "NAME = \"Ishan Ranjan\""
   ]
  },
  {
   "cell_type": "markdown",
   "metadata": {},
   "source": [
    "_Understanding Deep Learning_"
   ]
  },
  {
   "cell_type": "markdown",
   "metadata": {},
   "source": [
    "---"
   ]
  },
  {
   "cell_type": "markdown",
   "metadata": {
    "colab_type": "text",
    "id": "view-in-github"
   },
   "source": [
    "<a href=\"https://colab.research.google.com/github/DL4DS/sp2024_notebooks/blob/main/release/nbs08/8_1_MNIST_1D_Performance.ipynb\" target=\"_parent\"><img src=\"https://colab.research.google.com/assets/colab-badge.svg\" alt=\"Open In Colab\"/></a>"
   ]
  },
  {
   "cell_type": "markdown",
   "metadata": {
    "deletable": false,
    "editable": false,
    "id": "L6chybAVFJW2",
    "nbgrader": {
     "cell_type": "markdown",
     "checksum": "c977ea3a5ad31e465e3f4724ee56827f",
     "grade": false,
     "grade_id": "cell-c6db64138a35360e",
     "locked": true,
     "schema_version": 3,
     "solution": false,
     "task": false
    }
   },
   "source": [
    "# Notebook 8.1: MNIST_1D_Performance\n",
    "\n",
    "This notebook runs a simple neural network on the MNIST1D dataset as in figure 8.2a.\n",
    "It uses code from https://github.com/greydanus/mnist1d to generate the data.\n",
    "\n",
    "Adapted from notebooks at https://github.com/udlbook/udlbook."
   ]
  },
  {
   "cell_type": "code",
   "execution_count": 3,
   "metadata": {
    "deletable": false,
    "editable": false,
    "id": "ifVjS4cTOqKz",
    "nbgrader": {
     "cell_type": "code",
     "checksum": "7e2245a636bf0bcb277f3b92afee779d",
     "grade": false,
     "grade_id": "cell-b46b7d9b220f41a3",
     "locked": true,
     "schema_version": 3,
     "solution": false,
     "task": false
    }
   },
   "outputs": [],
   "source": [
    "# Clone the mnist1d repository if it doesn't exist\n",
    "import os\n",
    "\n",
    "if not os.path.exists('mnist1d'):\n",
    "    !git clone https://github.com/greydanus/mnist1d"
   ]
  },
  {
   "cell_type": "code",
   "execution_count": 4,
   "metadata": {},
   "outputs": [
    {
     "name": "stdout",
     "output_type": "stream",
     "text": [
      "Requirement already satisfied: torchinfo in /Users/iranjan/anaconda3/lib/python3.10/site-packages (1.8.0)\n"
     ]
    }
   ],
   "source": [
    "# when running on Colab, we need to install torchinfo.\n",
    "# if you are running locally, you can install this package in your local environment\n",
    "!pip install torchinfo"
   ]
  },
  {
   "cell_type": "code",
   "execution_count": 5,
   "metadata": {
    "deletable": false,
    "editable": false,
    "id": "qyE7G1StPIqO",
    "nbgrader": {
     "cell_type": "code",
     "checksum": "374c08d9c5dca37a8e4d7ffd9a4a8ab1",
     "grade": false,
     "grade_id": "cell-2cb6e8f6902507e8",
     "locked": true,
     "schema_version": 3,
     "solution": false,
     "task": false
    }
   },
   "outputs": [],
   "source": [
    "import torch, torch.nn as nn\n",
    "from torch.utils.data import TensorDataset, DataLoader\n",
    "from torch.optim.lr_scheduler import StepLR\n",
    "import numpy as np\n",
    "import matplotlib.pyplot as plt\n",
    "import mnist1d\n",
    "from torchinfo import summary"
   ]
  },
  {
   "cell_type": "markdown",
   "metadata": {
    "deletable": false,
    "editable": false,
    "id": "F7LNq72SP6jO",
    "nbgrader": {
     "cell_type": "markdown",
     "checksum": "b5c314f2077f9bffdc3a85a90eeb22de",
     "grade": false,
     "grade_id": "cell-704a4ceef22ef029",
     "locked": true,
     "schema_version": 3,
     "solution": false,
     "task": false
    }
   },
   "source": [
    "Let's generate a training and test dataset using the MNIST1D code.  The dataset gets saved as a .pkl file so it doesn't have to be regenerated each time."
   ]
  },
  {
   "cell_type": "code",
   "execution_count": 6,
   "metadata": {
    "deletable": false,
    "editable": false,
    "id": "YLxf7dJfPaqw",
    "nbgrader": {
     "cell_type": "code",
     "checksum": "19cc36d8d8d27e3713c544d0036830f6",
     "grade": false,
     "grade_id": "cell-4cb95d0b5fbb733e",
     "locked": true,
     "schema_version": 3,
     "solution": false,
     "task": false
    }
   },
   "outputs": [
    {
     "name": "stdout",
     "output_type": "stream",
     "text": [
      "Successfully loaded data from ./mnist1d_data.pkl\n",
      "Examples in training set: 4000\n",
      "Examples in test set: 1000\n",
      "Length of each example: 40\n"
     ]
    }
   ],
   "source": [
    "args = mnist1d.data.get_dataset_args()\n",
    "data = mnist1d.data.get_dataset(args, path='./mnist1d_data.pkl', download=False, regenerate=False)\n",
    "\n",
    "# The training and test input and outputs are in\n",
    "# data['x'], data['y'], data['x_test'], and data['y_test']\n",
    "print(\"Examples in training set: {}\".format(len(data['y'])))\n",
    "print(\"Examples in test set: {}\".format(len(data['y_test'])))\n",
    "print(\"Length of each example: {}\".format(data['x'].shape[-1]))"
   ]
  },
  {
   "cell_type": "code",
   "execution_count": 25,
   "metadata": {
    "deletable": false,
    "id": "FxaB5vc0uevl",
    "nbgrader": {
     "cell_type": "code",
     "checksum": "6841a41895a1e7d5a9d2ba882939d9e4",
     "grade": false,
     "grade_id": "cell-7c3ea9378860d4b0",
     "locked": false,
     "schema_version": 3,
     "solution": true,
     "task": false
    }
   },
   "outputs": [
    {
     "name": "stdout",
     "output_type": "stream",
     "text": [
      "Initializing layer\n",
      "Initializing layer\n",
      "Initializing layer\n",
      "Initializing layer\n",
      "Initializing layer\n",
      "Initializing layer\n",
      "Initializing layer\n",
      "Initializing layer\n"
     ]
    },
    {
     "data": {
      "text/plain": [
       "Sequential(\n",
       "  (0): Linear(in_features=40, out_features=100, bias=True)\n",
       "  (1): ReLU()\n",
       "  (2): Linear(in_features=100, out_features=100, bias=True)\n",
       "  (3): ReLU()\n",
       "  (4): Linear(in_features=100, out_features=100, bias=True)\n",
       "  (5): ReLU()\n",
       "  (6): Linear(in_features=100, out_features=10, bias=True)\n",
       ")"
      ]
     },
     "execution_count": 25,
     "metadata": {},
     "output_type": "execute_result"
    }
   ],
   "source": [
    "D_i = 40    # Input dimensions\n",
    "D_k = 100   # Hidden dimensions\n",
    "D_o = 10    # Output dimensions\n",
    "\n",
    "# TO DO:\n",
    "# Define a model with two hidden layers of size 100\n",
    "# And ReLU activations between them\n",
    "# Replace this line (see Figure 7.8 of book for help):\n",
    "model = torch.nn.Sequential(\n",
    "  nn.Linear(D_i, D_k),\n",
    "  nn.ReLU(),\n",
    "  nn.Linear(D_k, D_k),\n",
    "  nn.ReLU(),\n",
    "  nn.Linear(D_k, D_k),\n",
    "  nn.ReLU(),\n",
    "  nn.Linear(D_k, D_o)\n",
    ")\n",
    "\n",
    "# YOUR CODE HERE\n",
    "\n",
    "def weights_init(layer_in):\n",
    "  # TO DO:\n",
    "  # Initialize the parameters with He initialization\n",
    "  # Replace this line (see figure 7.8 of book for help)\n",
    "  print(\"Initializing layer\")\n",
    "  if isinstance(layer_in, nn.Linear):\n",
    "    torch.nn.init.kaiming_uniform_(layer_in.weight)\n",
    "    layer_in.bias.data.fill_(0.0)\n",
    "\n",
    "  # YOUR CODE HERE\n",
    "\n",
    "# Call the function you just defined\n",
    "model.apply(weights_init)\n"
   ]
  },
  {
   "cell_type": "code",
   "execution_count": 26,
   "metadata": {
    "deletable": false,
    "editable": false,
    "nbgrader": {
     "cell_type": "code",
     "checksum": "2484fcf3416103ba6c930f55e592f86a",
     "grade": false,
     "grade_id": "cell-ff47d79f21506df4",
     "locked": true,
     "schema_version": 3,
     "solution": false,
     "task": false
    }
   },
   "outputs": [
    {
     "name": "stdout",
     "output_type": "stream",
     "text": [
      "==========================================================================================\n",
      "Layer (type:depth-idx)                   Output Shape              Param #\n",
      "==========================================================================================\n",
      "Sequential                               [1, 10]                   --\n",
      "├─Linear: 1-1                            [1, 100]                  4,100\n",
      "├─ReLU: 1-2                              [1, 100]                  --\n",
      "├─Linear: 1-3                            [1, 100]                  10,100\n",
      "├─ReLU: 1-4                              [1, 100]                  --\n",
      "├─Linear: 1-5                            [1, 100]                  10,100\n",
      "├─ReLU: 1-6                              [1, 100]                  --\n",
      "├─Linear: 1-7                            [1, 10]                   1,010\n",
      "==========================================================================================\n",
      "Total params: 25,310\n",
      "Trainable params: 25,310\n",
      "Non-trainable params: 0\n",
      "Total mult-adds (M): 0.03\n",
      "==========================================================================================\n",
      "Input size (MB): 0.00\n",
      "Forward/backward pass size (MB): 0.00\n",
      "Params size (MB): 0.10\n",
      "Estimated Total Size (MB): 0.10\n",
      "==========================================================================================\n"
     ]
    }
   ],
   "source": [
    "print(summary(model, input_size=(1, D_i), device='cpu'))"
   ]
  },
  {
   "cell_type": "code",
   "execution_count": 34,
   "metadata": {
    "deletable": false,
    "editable": false,
    "id": "_rX6N3VyyQTY",
    "nbgrader": {
     "cell_type": "code",
     "checksum": "32192e9a117a019189a65ab56ad9a33a",
     "grade": false,
     "grade_id": "cell-519ba15e1f56c6a2",
     "locked": true,
     "schema_version": 3,
     "solution": false,
     "task": false
    }
   },
   "outputs": [
    {
     "name": "stdout",
     "output_type": "stream",
     "text": [
      "Initializing layer\n",
      "Initializing layer\n",
      "Initializing layer\n",
      "Initializing layer\n",
      "Initializing layer\n",
      "Initializing layer\n",
      "Initializing layer\n",
      "Initializing layer\n",
      "Epoch     0, train loss 1.598672, train error 62.53,  test loss 1.653502, test error 67.70\n",
      "Epoch     1, train loss 1.325630, train error 51.22,  test loss 1.465883, test error 58.60\n",
      "Epoch     2, train loss 1.177163, train error 45.72,  test loss 1.401167, test error 56.30\n",
      "Epoch     3, train loss 0.987575, train error 36.42,  test loss 1.265678, test error 47.20\n",
      "Epoch     4, train loss 0.844450, train error 31.72,  test loss 1.173873, test error 44.50\n",
      "Epoch     5, train loss 0.757912, train error 27.97,  test loss 1.202836, test error 43.90\n",
      "Epoch     6, train loss 0.618480, train error 22.32,  test loss 1.099459, test error 40.90\n",
      "Epoch     7, train loss 0.560941, train error 19.60,  test loss 1.108456, test error 42.10\n",
      "Epoch     8, train loss 0.536718, train error 18.50,  test loss 1.140909, test error 41.20\n",
      "Epoch     9, train loss 0.403486, train error 13.40,  test loss 1.055382, test error 38.40\n",
      "Epoch    10, train loss 0.253420, train error 6.45,  test loss 1.036525, test error 37.80\n",
      "Epoch    11, train loss 0.199645, train error 4.25,  test loss 1.069828, test error 35.50\n",
      "Epoch    12, train loss 0.177322, train error 4.22,  test loss 1.098630, test error 35.70\n",
      "Epoch    13, train loss 0.139352, train error 2.32,  test loss 1.108585, test error 35.70\n",
      "Epoch    14, train loss 0.110895, train error 1.45,  test loss 1.151026, test error 36.60\n",
      "Epoch    15, train loss 0.087001, train error 0.75,  test loss 1.178278, test error 34.40\n",
      "Epoch    16, train loss 0.074714, train error 0.68,  test loss 1.242342, test error 34.40\n",
      "Epoch    17, train loss 0.059539, train error 0.28,  test loss 1.237906, test error 33.80\n",
      "Epoch    18, train loss 0.046820, train error 0.10,  test loss 1.293133, test error 34.20\n",
      "Epoch    19, train loss 0.043739, train error 0.18,  test loss 1.323570, test error 33.80\n",
      "Epoch    20, train loss 0.031662, train error 0.03,  test loss 1.338825, test error 34.00\n",
      "Epoch    21, train loss 0.028482, train error 0.00,  test loss 1.348767, test error 34.20\n",
      "Epoch    22, train loss 0.026419, train error 0.00,  test loss 1.370477, test error 34.10\n",
      "Epoch    23, train loss 0.024658, train error 0.00,  test loss 1.395781, test error 34.00\n",
      "Epoch    24, train loss 0.023004, train error 0.00,  test loss 1.401616, test error 34.30\n",
      "Epoch    25, train loss 0.021555, train error 0.00,  test loss 1.423760, test error 34.70\n",
      "Epoch    26, train loss 0.020597, train error 0.00,  test loss 1.430366, test error 34.00\n",
      "Epoch    27, train loss 0.019152, train error 0.00,  test loss 1.439778, test error 34.40\n",
      "Epoch    28, train loss 0.018095, train error 0.00,  test loss 1.451029, test error 34.30\n",
      "Epoch    29, train loss 0.017350, train error 0.00,  test loss 1.472068, test error 34.20\n",
      "Epoch    30, train loss 0.016629, train error 0.00,  test loss 1.475072, test error 34.30\n",
      "Epoch    31, train loss 0.016204, train error 0.00,  test loss 1.485091, test error 34.70\n",
      "Epoch    32, train loss 0.015809, train error 0.00,  test loss 1.487464, test error 34.30\n",
      "Epoch    33, train loss 0.015393, train error 0.00,  test loss 1.494397, test error 34.30\n",
      "Epoch    34, train loss 0.015070, train error 0.00,  test loss 1.499465, test error 34.60\n",
      "Epoch    35, train loss 0.014730, train error 0.00,  test loss 1.505015, test error 34.50\n",
      "Epoch    36, train loss 0.014493, train error 0.00,  test loss 1.512851, test error 34.20\n",
      "Epoch    37, train loss 0.014075, train error 0.00,  test loss 1.515665, test error 34.40\n",
      "Epoch    38, train loss 0.013881, train error 0.00,  test loss 1.522346, test error 34.40\n",
      "Epoch    39, train loss 0.013486, train error 0.00,  test loss 1.526366, test error 34.60\n",
      "Epoch    40, train loss 0.013315, train error 0.00,  test loss 1.529527, test error 34.40\n",
      "Epoch    41, train loss 0.013182, train error 0.00,  test loss 1.532064, test error 34.20\n",
      "Epoch    42, train loss 0.013049, train error 0.00,  test loss 1.535788, test error 34.30\n",
      "Epoch    43, train loss 0.012909, train error 0.00,  test loss 1.537881, test error 34.40\n",
      "Epoch    44, train loss 0.012777, train error 0.00,  test loss 1.540163, test error 34.40\n",
      "Epoch    45, train loss 0.012658, train error 0.00,  test loss 1.542449, test error 34.50\n",
      "Epoch    46, train loss 0.012533, train error 0.00,  test loss 1.544794, test error 34.50\n",
      "Epoch    47, train loss 0.012401, train error 0.00,  test loss 1.548314, test error 34.40\n",
      "Epoch    48, train loss 0.012280, train error 0.00,  test loss 1.550105, test error 34.50\n",
      "Epoch    49, train loss 0.012160, train error 0.00,  test loss 1.552425, test error 34.40\n",
      "Epoch    50, train loss 0.012099, train error 0.00,  test loss 1.553779, test error 34.40\n",
      "Epoch    51, train loss 0.012042, train error 0.00,  test loss 1.554259, test error 34.40\n",
      "Epoch    52, train loss 0.011984, train error 0.00,  test loss 1.556077, test error 34.30\n",
      "Epoch    53, train loss 0.011926, train error 0.00,  test loss 1.556988, test error 34.50\n",
      "Epoch    54, train loss 0.011870, train error 0.00,  test loss 1.558540, test error 34.50\n",
      "Epoch    55, train loss 0.011813, train error 0.00,  test loss 1.559564, test error 34.40\n",
      "Epoch    56, train loss 0.011759, train error 0.00,  test loss 1.560860, test error 34.50\n",
      "Epoch    57, train loss 0.011703, train error 0.00,  test loss 1.561717, test error 34.50\n",
      "Epoch    58, train loss 0.011647, train error 0.00,  test loss 1.563032, test error 34.50\n",
      "Epoch    59, train loss 0.011594, train error 0.00,  test loss 1.564122, test error 34.50\n",
      "Epoch    60, train loss 0.011566, train error 0.00,  test loss 1.564709, test error 34.40\n",
      "Epoch    61, train loss 0.011538, train error 0.00,  test loss 1.565422, test error 34.40\n",
      "Epoch    62, train loss 0.011512, train error 0.00,  test loss 1.566209, test error 34.60\n",
      "Epoch    63, train loss 0.011485, train error 0.00,  test loss 1.566357, test error 34.50\n",
      "Epoch    64, train loss 0.011459, train error 0.00,  test loss 1.567137, test error 34.50\n",
      "Epoch    65, train loss 0.011433, train error 0.00,  test loss 1.567856, test error 34.50\n",
      "Epoch    66, train loss 0.011407, train error 0.00,  test loss 1.568344, test error 34.60\n",
      "Epoch    67, train loss 0.011380, train error 0.00,  test loss 1.568681, test error 34.60\n",
      "Epoch    68, train loss 0.011354, train error 0.00,  test loss 1.569364, test error 34.50\n",
      "Epoch    69, train loss 0.011328, train error 0.00,  test loss 1.570170, test error 34.60\n",
      "Epoch    70, train loss 0.011315, train error 0.00,  test loss 1.570527, test error 34.60\n",
      "Epoch    71, train loss 0.011302, train error 0.00,  test loss 1.570538, test error 34.60\n",
      "Epoch    72, train loss 0.011289, train error 0.00,  test loss 1.570924, test error 34.60\n",
      "Epoch    73, train loss 0.011276, train error 0.00,  test loss 1.571085, test error 34.60\n",
      "Epoch    74, train loss 0.011263, train error 0.00,  test loss 1.571409, test error 34.50\n",
      "Epoch    75, train loss 0.011251, train error 0.00,  test loss 1.571586, test error 34.60\n",
      "Epoch    76, train loss 0.011238, train error 0.00,  test loss 1.572029, test error 34.60\n",
      "Epoch    77, train loss 0.011225, train error 0.00,  test loss 1.572305, test error 34.50\n",
      "Epoch    78, train loss 0.011212, train error 0.00,  test loss 1.572562, test error 34.60\n",
      "Epoch    79, train loss 0.011200, train error 0.00,  test loss 1.572863, test error 34.60\n",
      "Epoch    80, train loss 0.011193, train error 0.00,  test loss 1.572972, test error 34.60\n",
      "Epoch    81, train loss 0.011187, train error 0.00,  test loss 1.573118, test error 34.60\n",
      "Epoch    82, train loss 0.011181, train error 0.00,  test loss 1.573238, test error 34.60\n",
      "Epoch    83, train loss 0.011174, train error 0.00,  test loss 1.573399, test error 34.60\n",
      "Epoch    84, train loss 0.011168, train error 0.00,  test loss 1.573488, test error 34.60\n",
      "Epoch    85, train loss 0.011162, train error 0.00,  test loss 1.573780, test error 34.60\n",
      "Epoch    86, train loss 0.011155, train error 0.00,  test loss 1.573838, test error 34.60\n",
      "Epoch    87, train loss 0.011149, train error 0.00,  test loss 1.574022, test error 34.60\n",
      "Epoch    88, train loss 0.011143, train error 0.00,  test loss 1.574093, test error 34.60\n",
      "Epoch    89, train loss 0.011137, train error 0.00,  test loss 1.574293, test error 34.60\n",
      "Epoch    90, train loss 0.011133, train error 0.00,  test loss 1.574338, test error 34.60\n",
      "Epoch    91, train loss 0.011130, train error 0.00,  test loss 1.574397, test error 34.60\n",
      "Epoch    92, train loss 0.011127, train error 0.00,  test loss 1.574469, test error 34.60\n",
      "Epoch    93, train loss 0.011124, train error 0.00,  test loss 1.574561, test error 34.60\n",
      "Epoch    94, train loss 0.011121, train error 0.00,  test loss 1.574620, test error 34.60\n",
      "Epoch    95, train loss 0.011118, train error 0.00,  test loss 1.574685, test error 34.60\n",
      "Epoch    96, train loss 0.011114, train error 0.00,  test loss 1.574773, test error 34.60\n",
      "Epoch    97, train loss 0.011111, train error 0.00,  test loss 1.574833, test error 34.60\n",
      "Epoch    98, train loss 0.011108, train error 0.00,  test loss 1.574912, test error 34.60\n",
      "Epoch    99, train loss 0.011105, train error 0.00,  test loss 1.574957, test error 34.60\n"
     ]
    }
   ],
   "source": [
    "# choose cross entropy loss function (equation 5.24)\n",
    "loss_function = torch.nn.CrossEntropyLoss()\n",
    "\n",
    "# construct SGD optimizer and initialize learning rate and momentum\n",
    "# original lr = 0.05, momentum = 0.9\n",
    "optimizer = torch.optim.SGD(model.parameters(), lr = 0.05, momentum = 0.9)\n",
    "\n",
    "# object that decreases learning rate by half every 10 epochs\n",
    "scheduler = StepLR(optimizer, step_size=10, gamma=0.5)\n",
    "\n",
    "# create 100 dummy data points and store in data loader class\n",
    "x_train = torch.tensor(data['x'].astype('float32'))\n",
    "y_train = torch.tensor(data['y'].transpose().astype('long'))\n",
    "x_test= torch.tensor(data['x_test'].astype('float32'))\n",
    "y_test = torch.tensor(data['y_test'].astype('long'))\n",
    "\n",
    "# load the data into a class that creates the batches\n",
    "data_loader = DataLoader(TensorDataset(x_train,y_train), batch_size=100, shuffle=True, worker_init_fn=np.random.seed(1))\n",
    "\n",
    "# Initialize model weights\n",
    "model.apply(weights_init)\n",
    "\n",
    "# loop over the dataset n_epoch times\n",
    "n_epoch = 100 # was 50\n",
    "# store the loss and the % correct at each epoch\n",
    "losses_train = np.zeros((n_epoch))\n",
    "errors_train = np.zeros((n_epoch))\n",
    "losses_test = np.zeros((n_epoch))\n",
    "errors_test = np.zeros((n_epoch))\n",
    "\n",
    "for epoch in range(n_epoch):\n",
    "  # loop over batches\n",
    "  for i, batch in enumerate(data_loader):\n",
    "    # retrieve inputs and labels for this batch\n",
    "    x_batch, y_batch = batch\n",
    "    # zero the parameter gradients\n",
    "    optimizer.zero_grad()\n",
    "    # forward pass -- calculate model output\n",
    "    pred = model(x_batch)\n",
    "    # compute the loss\n",
    "    loss = loss_function(pred, y_batch)\n",
    "    # backward pass\n",
    "    loss.backward()\n",
    "    # SGD update\n",
    "    optimizer.step()\n",
    "\n",
    "  # Run whole dataset to get statistics -- normally wouldn't do this\n",
    "  pred_train = model(x_train)\n",
    "  pred_test = model(x_test)\n",
    "  _, predicted_train_class = torch.max(pred_train.data, 1)\n",
    "  _, predicted_test_class = torch.max(pred_test.data, 1)\n",
    "  errors_train[epoch] = 100 - 100 * (predicted_train_class == y_train).float().sum() / len(y_train)\n",
    "  errors_test[epoch]= 100 - 100 * (predicted_test_class == y_test).float().sum() / len(y_test)\n",
    "  losses_train[epoch] = loss_function(pred_train, y_train).item()\n",
    "  losses_test[epoch]= loss_function(pred_test, y_test).item()\n",
    "  print(f'Epoch {epoch:5d}, train loss {losses_train[epoch]:.6f}, train error {errors_train[epoch]:3.2f},  test loss {losses_test[epoch]:.6f}, test error {errors_test[epoch]:3.2f}')\n",
    "\n",
    "  # tell scheduler to consider updating learning rate\n",
    "  scheduler.step()"
   ]
  },
  {
   "cell_type": "code",
   "execution_count": 35,
   "metadata": {
    "deletable": false,
    "editable": false,
    "nbgrader": {
     "cell_type": "code",
     "checksum": "4454db8bb00838cc44e7c26537c53f2f",
     "grade": true,
     "grade_id": "cell-754a905982bc643d",
     "locked": true,
     "points": 4,
     "schema_version": 3,
     "solution": false,
     "task": false
    }
   },
   "outputs": [],
   "source": [
    "# Your trained model should satisfy these limits\n",
    "# Do not modify this cell\n",
    "\n",
    "assert losses_train[-1] < 0.05, \"Loss on training set is too high\"\n",
    "assert errors_train[-1] < .01, \"Error on training set is too high\"\n",
    "\n",
    "assert losses_test[-1] < 1.7, \"Loss on test set is too high\"\n",
    "assert np.min(losses_test) < 1.3, \"Minimum loss on test set is too high\"\n",
    "\n",
    "assert errors_test[-1] < 40, \"Error on test set is too high\""
   ]
  },
  {
   "cell_type": "code",
   "execution_count": 36,
   "metadata": {
    "deletable": false,
    "editable": false,
    "id": "yI-l6kA_EH9G",
    "nbgrader": {
     "cell_type": "code",
     "checksum": "37cbc1e83d17961f3d79fa26b04670d9",
     "grade": false,
     "grade_id": "cell-baa7be01fee0fa02",
     "locked": true,
     "schema_version": 3,
     "solution": false,
     "task": false
    }
   },
   "outputs": [
    {
     "data": {
      "image/png": "[encoded data removed]",
      "text/plain": [
       "<Figure size 640x480 with 1 Axes>"
      ]
     },
     "metadata": {},
     "output_type": "display_data"
    },
    {
     "data": {
      "image/png": "[encoded data removed]",
      "text/plain": [
       "<Figure size 640x480 with 1 Axes>"
      ]
     },
     "metadata": {},
     "output_type": "display_data"
    }
   ],
   "source": [
    "# Plot the results\n",
    "fig, ax = plt.subplots()\n",
    "ax.plot(errors_train,'r-',label='train')\n",
    "ax.plot(errors_test,'b-',label='test')\n",
    "ax.set_ylim(0,100); ax.set_xlim(0,n_epoch)\n",
    "ax.set_xlabel('Epoch'); ax.set_ylabel('Error')\n",
    "ax.set_title('TrainError %3.2f, Test Error %3.2f'%(errors_train[-1],errors_test[-1]))\n",
    "ax.legend()\n",
    "plt.show()\n",
    "\n",
    "# Plot the results\n",
    "fig, ax = plt.subplots()\n",
    "ax.plot(losses_train,'r-',label='train')\n",
    "ax.plot(losses_test,'b-',label='test')\n",
    "ax.set_xlim(0,n_epoch)\n",
    "ax.set_xlabel('Epoch'); ax.set_ylabel('Loss')\n",
    "ax.set_title('Train loss %3.2f, Test loss %3.2f'%(losses_train[-1],losses_test[-1]))\n",
    "ax.legend()\n",
    "plt.show()"
   ]
  },
  {
   "cell_type": "markdown",
   "metadata": {
    "deletable": false,
    "editable": false,
    "id": "q-yT6re6GZS4",
    "nbgrader": {
     "cell_type": "markdown",
     "checksum": "020629b488027218cdf69a8c96393f71",
     "grade": false,
     "grade_id": "cell-a4081a80112ce3e8",
     "locked": true,
     "schema_version": 3,
     "solution": false,
     "task": false
    }
   },
   "source": [
    "Look at the difference between training and test, and observe what is happening to test loss as training proceeds.\n",
    "\n",
    "We'll also come back and compare this to the convolutional neural network later."
   ]
  },
  {
   "cell_type": "markdown",
   "metadata": {},
   "source": [
    "**Answer:** As training proceeds, the test loss either plateaus or increases as time goes on"
   ]
  }
 ],
 "metadata": {
  "accelerator": "GPU",
  "colab": {
   "authorship_tag": "ABX9TyNLj3HOpVB87nRu7oSLuBaU",
   "gpuType": "T4",
   "include_colab_link": true,
   "provenance": []
  },
  "kernelspec": {
   "display_name": "Python 3 (ipykernel)",
   "language": "python",
   "name": "python3"
  },
  "language_info": {
   "codemirror_mode": {
    "name": "ipython",
    "version": 3
   },
   "file_extension": ".py",
   "mimetype": "text/x-python",
   "name": "python",
   "nbconvert_exporter": "python",
   "pygments_lexer": "ipython3",
   "version": "3.10.9"
  }
 },
 "nbformat": 4,
 "nbformat_minor": 4
}
